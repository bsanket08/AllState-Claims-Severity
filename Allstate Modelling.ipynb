{
 "cells": [
  {
   "cell_type": "markdown",
   "metadata": {},
   "source": [
    "### Importing required Liabraries"
   ]
  },
  {
   "cell_type": "code",
   "execution_count": 1,
   "metadata": {},
   "outputs": [],
   "source": [
    "import numpy as np\n",
    "import pandas as pd\n",
    "import matplotlib.pyplot as plt\n",
    "import seaborn as sns\n",
    "\n",
    "from sklearn.linear_model import LogisticRegression\n",
    "from sklearn.linear_model import LinearRegression\n",
    "from sklearn.linear_model import Ridge\n",
    "from sklearn.linear_model import Lasso\n",
    "from sklearn.linear_model import ElasticNet\n",
    "from sklearn.ensemble import RandomForestClassifier\n",
    "from sklearn.ensemble import BaggingRegressor\n",
    "from sklearn.ensemble import RandomForestRegressor\n",
    "from sklearn.ensemble import GradientBoostingRegressor\n",
    "from sklearn.ensemble import AdaBoostRegressor\n",
    "from sklearn.tree import DecisionTreeRegressor\n",
    "from sklearn.neighbors import KNeighborsRegressor\n",
    "from xgboost import XGBRegressor\n",
    "import xgboost as xgb\n",
    "\n",
    "from sklearn.model_selection import train_test_split\n",
    "from sklearn.model_selection import GridSearchCV\n",
    "from sklearn.metrics import mean_absolute_error,mean_squared_error, roc_auc_score\n",
    "from sklearn.preprocessing import LabelEncoder, LabelBinarizer\n",
    "from copy import deepcopy\n",
    "from scipy import stats\n",
    "from scipy.sparse import csr_matrix, hstack\n",
    "import pickle\n",
    "import time\n",
    "import warnings\n",
    "warnings.filterwarnings('ignore')"
   ]
  },
  {
   "cell_type": "markdown",
   "metadata": {},
   "source": [
    "### Loading data\n",
    "* Loaded data into train and test Dataframes.\n",
    "* Seperated categorical feature names and Numerical feature names.\n",
    "* Implemented label encoding\n",
    "* Handled categorical features having different unique values in train and test data as below:\n",
    "    * Created an array of unique values of specific feature which is present in either train or test data but not in both.\n",
    "    * Implemented SearchFeature function such that it will return variable if it should be removed , NaN otherwise.\n",
    "    * Used pandas.factorize() to replace all categorical variables by integers and NaN by -1."
   ]
  },
  {
   "cell_type": "code",
   "execution_count": 2,
   "metadata": {},
   "outputs": [
    {
     "name": "stdout",
     "output_type": "stream",
     "text": [
      "Shape of train data:  (188318, 132)\n",
      "Shape of test data:  (125546, 131)\n",
      "Joining train and test data\n",
      "Joining completed!\n",
      "Shape of concatenated data:  (313864, 132)\n",
      "Total number of categorical features:  116\n"
     ]
    }
   ],
   "source": [
    "trainData = pd.read_csv('train.csv',nrows=188318)\n",
    "testData = pd.read_csv('test.csv')\n",
    "\n",
    "print('Shape of train data: ',trainData.shape)\n",
    "print('Shape of test data: ',testData.shape)\n",
    "\n",
    "print('Joining train and test data')\n",
    "testData['loss'] = np.nan\n",
    "data = pd.concat([trainData,testData])\n",
    "print('Joining completed!')\n",
    "print('Shape of concatenated data: ',data.shape)\n",
    "\n",
    "catFeat = list(trainData.select_dtypes(include=['object']).columns)\n",
    "print('Total number of categorical features: ',len(catFeat))"
   ]
  },
  {
   "cell_type": "code",
   "execution_count": 3,
   "metadata": {},
   "outputs": [
    {
     "name": "stdout",
     "output_type": "stream",
     "text": [
      "Features that have diff unique values in train and test are :\n",
      "['cat90', 'cat92', 'cat96', 'cat99', 'cat101', 'cat102', 'cat103', 'cat105', 'cat106', 'cat109', 'cat110', 'cat113', 'cat114', 'cat116']\n"
     ]
    }
   ],
   "source": [
    "noCommon = []\n",
    "for i in catFeat:\n",
    "    if trainData[i].nunique() != testData[i].nunique():\n",
    "        noCommon.append(i)\n",
    "print('Features that have diff unique values in train and test are :')\n",
    "print(noCommon)"
   ]
  },
  {
   "cell_type": "code",
   "execution_count": 4,
   "metadata": {},
   "outputs": [],
   "source": [
    "def searchFeature(x):\n",
    "    if x in combinedRemaining:\n",
    "        return np.nan\n",
    "    return \n",
    "\n",
    "for i in catFeat:\n",
    "    if trainData[i].nunique() != testData[i].nunique():\n",
    "        trainUnique = set(trainData[i].unique())\n",
    "        testUnique  = set(testData[i].unique())\n",
    "        remainingTrain  = trainUnique - testUnique\n",
    "        remainingTest   = testUnique - trainUnique\n",
    "        \n",
    "        combinedRemaining = remainingTrain.union(remainingTest)\n",
    "        \n",
    "        data[i] = data[i].apply(lambda x: searchFeature(x),1)\n",
    "    data[i] = pd.factorize(data[i].values,sort = True)[0]"
   ]
  },
  {
   "cell_type": "code",
   "execution_count": 5,
   "metadata": {},
   "outputs": [
    {
     "data": {
      "text/html": [
       "<div>\n",
       "<style scoped>\n",
       "    .dataframe tbody tr th:only-of-type {\n",
       "        vertical-align: middle;\n",
       "    }\n",
       "\n",
       "    .dataframe tbody tr th {\n",
       "        vertical-align: top;\n",
       "    }\n",
       "\n",
       "    .dataframe thead th {\n",
       "        text-align: right;\n",
       "    }\n",
       "</style>\n",
       "<table border=\"1\" class=\"dataframe\">\n",
       "  <thead>\n",
       "    <tr style=\"text-align: right;\">\n",
       "      <th></th>\n",
       "      <th>id</th>\n",
       "      <th>cat1</th>\n",
       "      <th>cat2</th>\n",
       "      <th>cat3</th>\n",
       "      <th>cat4</th>\n",
       "      <th>cat5</th>\n",
       "      <th>cat6</th>\n",
       "      <th>cat7</th>\n",
       "      <th>cat8</th>\n",
       "      <th>cat9</th>\n",
       "      <th>...</th>\n",
       "      <th>cont6</th>\n",
       "      <th>cont7</th>\n",
       "      <th>cont8</th>\n",
       "      <th>cont9</th>\n",
       "      <th>cont10</th>\n",
       "      <th>cont11</th>\n",
       "      <th>cont12</th>\n",
       "      <th>cont13</th>\n",
       "      <th>cont14</th>\n",
       "      <th>loss</th>\n",
       "    </tr>\n",
       "  </thead>\n",
       "  <tbody>\n",
       "    <tr>\n",
       "      <th>0</th>\n",
       "      <td>1</td>\n",
       "      <td>0</td>\n",
       "      <td>1</td>\n",
       "      <td>0</td>\n",
       "      <td>1</td>\n",
       "      <td>0</td>\n",
       "      <td>0</td>\n",
       "      <td>0</td>\n",
       "      <td>0</td>\n",
       "      <td>1</td>\n",
       "      <td>...</td>\n",
       "      <td>0.718367</td>\n",
       "      <td>0.335060</td>\n",
       "      <td>0.30260</td>\n",
       "      <td>0.67135</td>\n",
       "      <td>0.83510</td>\n",
       "      <td>0.569745</td>\n",
       "      <td>0.594646</td>\n",
       "      <td>0.822493</td>\n",
       "      <td>0.714843</td>\n",
       "      <td>2213.18</td>\n",
       "    </tr>\n",
       "    <tr>\n",
       "      <th>1</th>\n",
       "      <td>2</td>\n",
       "      <td>0</td>\n",
       "      <td>1</td>\n",
       "      <td>0</td>\n",
       "      <td>0</td>\n",
       "      <td>0</td>\n",
       "      <td>0</td>\n",
       "      <td>0</td>\n",
       "      <td>0</td>\n",
       "      <td>1</td>\n",
       "      <td>...</td>\n",
       "      <td>0.438917</td>\n",
       "      <td>0.436585</td>\n",
       "      <td>0.60087</td>\n",
       "      <td>0.35127</td>\n",
       "      <td>0.43919</td>\n",
       "      <td>0.338312</td>\n",
       "      <td>0.366307</td>\n",
       "      <td>0.611431</td>\n",
       "      <td>0.304496</td>\n",
       "      <td>1283.60</td>\n",
       "    </tr>\n",
       "    <tr>\n",
       "      <th>2</th>\n",
       "      <td>5</td>\n",
       "      <td>0</td>\n",
       "      <td>1</td>\n",
       "      <td>0</td>\n",
       "      <td>0</td>\n",
       "      <td>1</td>\n",
       "      <td>0</td>\n",
       "      <td>0</td>\n",
       "      <td>0</td>\n",
       "      <td>1</td>\n",
       "      <td>...</td>\n",
       "      <td>0.289648</td>\n",
       "      <td>0.315545</td>\n",
       "      <td>0.27320</td>\n",
       "      <td>0.26076</td>\n",
       "      <td>0.32446</td>\n",
       "      <td>0.381398</td>\n",
       "      <td>0.373424</td>\n",
       "      <td>0.195709</td>\n",
       "      <td>0.774425</td>\n",
       "      <td>3005.09</td>\n",
       "    </tr>\n",
       "    <tr>\n",
       "      <th>3</th>\n",
       "      <td>10</td>\n",
       "      <td>1</td>\n",
       "      <td>1</td>\n",
       "      <td>0</td>\n",
       "      <td>1</td>\n",
       "      <td>0</td>\n",
       "      <td>0</td>\n",
       "      <td>0</td>\n",
       "      <td>0</td>\n",
       "      <td>1</td>\n",
       "      <td>...</td>\n",
       "      <td>0.440945</td>\n",
       "      <td>0.391128</td>\n",
       "      <td>0.31796</td>\n",
       "      <td>0.32128</td>\n",
       "      <td>0.44467</td>\n",
       "      <td>0.327915</td>\n",
       "      <td>0.321570</td>\n",
       "      <td>0.605077</td>\n",
       "      <td>0.602642</td>\n",
       "      <td>939.85</td>\n",
       "    </tr>\n",
       "    <tr>\n",
       "      <th>4</th>\n",
       "      <td>11</td>\n",
       "      <td>0</td>\n",
       "      <td>1</td>\n",
       "      <td>0</td>\n",
       "      <td>1</td>\n",
       "      <td>0</td>\n",
       "      <td>0</td>\n",
       "      <td>0</td>\n",
       "      <td>0</td>\n",
       "      <td>1</td>\n",
       "      <td>...</td>\n",
       "      <td>0.178193</td>\n",
       "      <td>0.247408</td>\n",
       "      <td>0.24564</td>\n",
       "      <td>0.22089</td>\n",
       "      <td>0.21230</td>\n",
       "      <td>0.204687</td>\n",
       "      <td>0.202213</td>\n",
       "      <td>0.246011</td>\n",
       "      <td>0.432606</td>\n",
       "      <td>2763.85</td>\n",
       "    </tr>\n",
       "  </tbody>\n",
       "</table>\n",
       "<p>5 rows × 132 columns</p>\n",
       "</div>"
      ],
      "text/plain": [
       "   id  cat1  cat2  cat3  cat4  cat5  cat6  cat7  cat8  cat9  ...     cont6  \\\n",
       "0   1     0     1     0     1     0     0     0     0     1  ...  0.718367   \n",
       "1   2     0     1     0     0     0     0     0     0     1  ...  0.438917   \n",
       "2   5     0     1     0     0     1     0     0     0     1  ...  0.289648   \n",
       "3  10     1     1     0     1     0     0     0     0     1  ...  0.440945   \n",
       "4  11     0     1     0     1     0     0     0     0     1  ...  0.178193   \n",
       "\n",
       "      cont7    cont8    cont9   cont10    cont11    cont12    cont13  \\\n",
       "0  0.335060  0.30260  0.67135  0.83510  0.569745  0.594646  0.822493   \n",
       "1  0.436585  0.60087  0.35127  0.43919  0.338312  0.366307  0.611431   \n",
       "2  0.315545  0.27320  0.26076  0.32446  0.381398  0.373424  0.195709   \n",
       "3  0.391128  0.31796  0.32128  0.44467  0.327915  0.321570  0.605077   \n",
       "4  0.247408  0.24564  0.22089  0.21230  0.204687  0.202213  0.246011   \n",
       "\n",
       "     cont14     loss  \n",
       "0  0.714843  2213.18  \n",
       "1  0.304496  1283.60  \n",
       "2  0.774425  3005.09  \n",
       "3  0.602642   939.85  \n",
       "4  0.432606  2763.85  \n",
       "\n",
       "[5 rows x 132 columns]"
      ]
     },
     "execution_count": 5,
     "metadata": {},
     "output_type": "execute_result"
    }
   ],
   "source": [
    "data.head()"
   ]
  },
  {
   "cell_type": "markdown",
   "metadata": {},
   "source": [
    "## Making data Model ready"
   ]
  },
  {
   "cell_type": "code",
   "execution_count": 6,
   "metadata": {},
   "outputs": [
    {
     "name": "stdout",
     "output_type": "stream",
     "text": [
      "Shape of train data:  (188318, 130)\n",
      "Shape of test data:  (125546, 130)\n"
     ]
    }
   ],
   "source": [
    "xTrain = data[data['loss'].notnull()]\n",
    "xTest = data[data['loss'].isnull()]\n",
    "\n",
    "shift = 100\n",
    "yTrain = np.log(xTrain['loss'] + shift)\n",
    "xTrain = xTrain.drop(['id','loss'],axis = 1)\n",
    "xTest = xTest.drop(['id','loss'],axis = 1)\n",
    "\n",
    "print('Shape of train data: ',xTrain.shape)\n",
    "print('Shape of test data: ',xTest.shape)"
   ]
  },
  {
   "cell_type": "markdown",
   "metadata": {},
   "source": [
    "### A function to run multiple models\n",
    "* We will train muliple models on train dataset without any hyperparameter tuning.\n",
    "* Then we will calculate model performance on cross validation dataset.\n",
    "* We will select best model from these models as primary model."
   ]
  },
  {
   "cell_type": "code",
   "execution_count": 7,
   "metadata": {},
   "outputs": [],
   "source": [
    "def runModels(xTrain,yTrain,xCV,yCV):\n",
    "    \"\"\"\n",
    "    This function traings multiple models on train dataset and calculates and returns model performance for each model\n",
    "    \"\"\"\n",
    "    # Defining models\n",
    "    modelLR = LinearRegression()\n",
    "    modelRF = RandomForestRegressor()\n",
    "    modelDT = DecisionTreeRegressor()\n",
    "    modelGBD = GradientBoostingRegressor()\n",
    "    modelKNN = KNeighborsRegressor()\n",
    "    modelADB = AdaBoostRegressor()\n",
    "    modelXGB = XGBRegressor()\n",
    "    modelRidge = Ridge()\n",
    "    modelLasso = Lasso()\n",
    "    modelElastic = ElasticNet()\n",
    "    \n",
    "    models = [modelLR, modelRF, modelDT, modelGBD, modelKNN, modelADB, modelXGB, modelRidge, modelLasso, modelElastic]\n",
    "    modelPerf = {}\n",
    "    \n",
    "    print('Training models...')\n",
    "    start = time.time()\n",
    "    for model in models:\n",
    "        model.fit(xTrain,yTrain)\n",
    "        pred = model.predict(xCV)\n",
    "        #Compute score\n",
    "        mae = mean_absolute_error(np.exp(yCV),np.exp(pred))\n",
    "        modelPerf.update({model:mae})\n",
    "    end = time.time()\n",
    "    print('Training complete! Time elapsed {0} seconds.'.format(end-start))\n",
    "    \n",
    "    return modelPerf"
   ]
  },
  {
   "cell_type": "markdown",
   "metadata": {},
   "source": [
    "### Splitting the data"
   ]
  },
  {
   "cell_type": "code",
   "execution_count": 8,
   "metadata": {
    "scrolled": true
   },
   "outputs": [],
   "source": [
    "#Train test split\n",
    "xTrain1, xCV1, yTrain1, yCV1 = train_test_split(xTrain,yTrain,test_size = 0.2)"
   ]
  },
  {
   "cell_type": "code",
   "execution_count": 9,
   "metadata": {},
   "outputs": [
    {
     "name": "stdout",
     "output_type": "stream",
     "text": [
      "Training models...\n",
      "Training complete! Time elapsed 861.630585193634 seconds.\n"
     ]
    }
   ],
   "source": [
    "modelPerf = runModels(xTrain1,yTrain1,xCV1,yCV1)"
   ]
  },
  {
   "cell_type": "markdown",
   "metadata": {},
   "source": [
    "### Histogram distribution of MAE of all the models"
   ]
  },
  {
   "cell_type": "code",
   "execution_count": 10,
   "metadata": {},
   "outputs": [
    {
     "data": {
      "text/plain": [
       "Text(0.5, 1.0, 'Zoomed Model Vs Mean Absolute Error')"
      ]
     },
     "execution_count": 10,
     "metadata": {},
     "output_type": "execute_result"
    },
    {
     "data": {
      "image/png": "[encoded data removed]",
      "text/plain": [
       "<Figure size 1440x576 with 2 Axes>"
      ]
     },
     "metadata": {
      "needs_background": "light"
     },
     "output_type": "display_data"
    }
   ],
   "source": [
    "models = ['modelLR', 'modelRF', 'modelDT', 'modelGBD', 'modelKNN', 'modelADB', 'modelXGB', 'modelRidge', 'modelLasso', 'modelElastic']\n",
    "error = modelPerf.values()\n",
    "\n",
    "fig, (plt1,plt2) = plt.subplots(1,2)\n",
    "fig.set_size_inches(20,8)\n",
    "\n",
    "plt1.bar(models,error)\n",
    "plt1.set_xticklabels(models,rotation=45)\n",
    "plt1.set_xlabel('Model')\n",
    "plt1.set_ylabel('Mean Absolute Error')\n",
    "plt1.set_title('Model Vs Mean Absolute Error')\n",
    "\n",
    "plt2.bar(models,error)\n",
    "plt2.set_ylim(800,2000)\n",
    "plt2.set_xticklabels(models,rotation=45)\n",
    "plt2.set_xlabel('Model')\n",
    "plt2.set_ylabel('Mean Absolute Error')\n",
    "plt2.set_title('Zoomed Model Vs Mean Absolute Error')"
   ]
  },
  {
   "cell_type": "code",
   "execution_count": 11,
   "metadata": {},
   "outputs": [
    {
     "name": "stdout",
     "output_type": "stream",
     "text": [
      "dict_values([1277.7614423118214, 1211.2851472215646, 1744.5993330501274, 1207.556964670193, 1457.1196422580138, 1552.8859727149224, 1160.4368701383191, 1277.7538759353229, 1805.3472592480218, 1805.3472592480218])\n"
     ]
    }
   ],
   "source": [
    "print(error)"
   ]
  },
  {
   "cell_type": "markdown",
   "metadata": {},
   "source": [
    "### Observations:\n",
    "* Trained multiple regression models without any hyperparameter tuning.\n",
    "* Some of the models performed well but some of the performed worst as input data has 130 dimensions and not all the modelsperform well for high dimensional data\n",
    "* XGBOOST performed well even without any hyperparameter tuning."
   ]
  },
  {
   "cell_type": "markdown",
   "metadata": {},
   "source": [
    "### Using OneHot Encoding"
   ]
  },
  {
   "cell_type": "code",
   "execution_count": 12,
   "metadata": {},
   "outputs": [
    {
     "name": "stdout",
     "output_type": "stream",
     "text": [
      "Shape of data after OHE : (188318, 1155)\n"
     ]
    }
   ],
   "source": [
    "dataOHE = pd.get_dummies(data=trainData, columns=catFeat)\n",
    "dataOHE.reset_index(drop = True, inplace = True)\n",
    "print('Shape of data after OHE :',dataOHE.shape)\n",
    "\n",
    "x_train = dataOHE.drop(['id','loss'],axis =1)\n",
    "y_train = np.log(dataOHE['loss'])\n",
    "\n",
    "x_train_ohe,x_cv_ohe,y_train_ohe,y_cv_ohe = train_test_split(x_train,y_train,test_size = 0.2)"
   ]
  },
  {
   "cell_type": "markdown",
   "metadata": {},
   "source": [
    "### Training XGBRegressor on one hot encoded features"
   ]
  },
  {
   "cell_type": "code",
   "execution_count": 13,
   "metadata": {},
   "outputs": [
    {
     "name": "stdout",
     "output_type": "stream",
     "text": [
      "Mean Absolute Error of XGBRegressor with One Hot Encoding:  1155.8194350259953\n"
     ]
    }
   ],
   "source": [
    "model = XGBRegressor(n_jobs=-1)\n",
    "model.fit(x_train_ohe,y_train_ohe)\n",
    "pred =  model.predict(x_cv_ohe)\n",
    "err = mean_absolute_error(np.exp(y_cv_ohe), np.exp(pred))\n",
    "print('Mean Absolute Error of XGBRegressor with One Hot Encoding: ',err)"
   ]
  },
  {
   "cell_type": "markdown",
   "metadata": {},
   "source": [
    "### Observations:\n",
    "* We can notice that XGBRegressor with label encoded features perfroms better than XGBRegressor with one hot encoded features"
   ]
  },
  {
   "cell_type": "markdown",
   "metadata": {},
   "source": [
    "### Hyper parameter tuning"
   ]
  },
  {
   "cell_type": "code",
   "execution_count": 14,
   "metadata": {},
   "outputs": [
    {
     "name": "stdout",
     "output_type": "stream",
     "text": [
      "Fisrt hyper parameter tune results: {'max_depth': 11, 'min_child_weight': 2}\n",
      "Training complete! Time elapsed 27017.814440250397 seconds.\n"
     ]
    }
   ],
   "source": [
    "start = time.time()\n",
    "params1 = {'max_depth':[11,12,13], 'min_child_weight':range(1,3)}\n",
    "clf = XGBRegressor(learning_rate =0.01, n_estimators=1000, max_depth=5,\n",
    "                min_child_weight=1, gamma=0.005, subsample=0.9, colsample_bytree=0.75,\n",
    "                scale_pos_weight=1, seed=0)\n",
    "\n",
    "model1 = GridSearchCV(estimator=clf,param_grid = params1)\n",
    "model1.fit(xTrain1,yTrain1)\n",
    "print('Fisrt hyper parameter tune results:',model1.best_params_)\n",
    "end = time.time()\n",
    "print('Training complete! Time elapsed {0} seconds.'.format(end-start))"
   ]
  },
  {
   "cell_type": "code",
   "execution_count": 18,
   "metadata": {},
   "outputs": [
    {
     "name": "stdout",
     "output_type": "stream",
     "text": [
      "Second hyper parameter tune results: {'gamma': 1.02, 'learning_rate': 0.01}\n",
      "Training complete! Time elapsed 45730.78299546242 seconds.\n"
     ]
    }
   ],
   "source": [
    "start = time.time()\n",
    "params2 = {'learning_rate':[0.01,0.1,0,1], 'gamma':[0.1,1,1.02]}\n",
    "\n",
    "clf = XGBRegressor(learning_rate =0.01, n_estimators=1000, max_depth=11,\n",
    "                min_child_weight=2, gamma=0.005, subsample=0.9, colsample_bytree=0.75,\n",
    "                scale_pos_weight=1, seed=0)\n",
    "model2 = GridSearchCV(estimator=clf,param_grid = params2)\n",
    "model2.fit(xTrain1,yTrain1)\n",
    "print('Second hyper parameter tune results:',model2.best_params_)\n",
    "end = time.time()\n",
    "print('Training complete! Time elapsed {0} seconds.'.format(end-start))"
   ]
  },
  {
   "cell_type": "code",
   "execution_count": 19,
   "metadata": {},
   "outputs": [
    {
     "name": "stdout",
     "output_type": "stream",
     "text": [
      "Third hyper parameter tune results: {'colsample_bytree': 0.6, 'subsample': 0.9}\n",
      "Training complete! Time elapsed 51685.39808797836 seconds.\n"
     ]
    }
   ],
   "source": [
    "start = time.time()\n",
    "params3 = {'colsample_bytree': [0.5,0.6,0.7], 'subsample' :[0.9,0.8,0.7]}\n",
    "\n",
    "clf = XGBRegressor(learning_rate =0.01, n_estimators=1000, max_depth=11,\n",
    "                min_child_weight=2, gamma=0.005, subsample=0.9, colsample_bytree=0.75,\n",
    "                scale_pos_weight=1, seed=0)\n",
    "\n",
    "model3 = GridSearchCV(estimator =clf,param_grid = params3)\n",
    "model3.fit(xTrain1,yTrain1)\n",
    "print('Third hyper parameter tune results:',model3.best_params_)\n",
    "end = time.time()\n",
    "print('Training complete! Time elapsed {0} seconds.'.format(end-start))"
   ]
  },
  {
   "cell_type": "markdown",
   "metadata": {},
   "source": [
    "### Training best model with best parameters"
   ]
  },
  {
   "cell_type": "code",
   "execution_count": 20,
   "metadata": {},
   "outputs": [
    {
     "name": "stdout",
     "output_type": "stream",
     "text": [
      "Training model with best parameters...\n",
      "Training complete! Time elapsed 617.328694820404 seconds.\n",
      "Mean Absolute error of best model:  1155.4722401381875\n"
     ]
    }
   ],
   "source": [
    "start = time.time()\n",
    "print('Training model with best parameters...')\n",
    "modelFinal = XGBRegressor(n_estimators=1000,learning_rate=0.1,max_depth=11,min_child_weight=2,gamma=1.02,subsample=0.9,colsample_bytree=0.6)\n",
    "modelFinal.fit(xTrain1,yTrain1)\n",
    "end = time.time()\n",
    "print('Training complete! Time elapsed {0} seconds.'.format(end-start))\n",
    "\n",
    "pred = modelFinal.predict(xCV1)\n",
    "mae = mean_absolute_error(np.exp(yCV1),np.exp(pred))\n",
    "print('Mean Absolute error of best model: ',mae)"
   ]
  },
  {
   "cell_type": "code",
   "execution_count": 21,
   "metadata": {},
   "outputs": [],
   "source": [
    "def xgboostEvalMAE(pred,dTrain):\n",
    "    labels = dTrain.get_label()\n",
    "    a = mean_absolute_error(np.exp(pred),np.exp(labels))\n",
    "    return 'MAE',a"
   ]
  },
  {
   "cell_type": "code",
   "execution_count": 23,
   "metadata": {},
   "outputs": [],
   "source": [
    "# Finding best rounds via cross validate xgboost with 50 early stoppings.\n",
    "RANDOM_STATE = 2000\n",
    "params = {\n",
    "        'min_child_weight': 2,\n",
    "        'eta': 0.01,\n",
    "        'colsample_bytree': 0.6,\n",
    "        'learning_rate': 0.1,\n",
    "        'max_depth': 11,\n",
    "        'subsample': 0.9,\n",
    "        'alpha': 1,\n",
    "        'gamma': 1.02,\n",
    "        'seed': RANDOM_STATE\n",
    "    }\n",
    "\n",
    "xgTrain = xgb.DMatrix(xTrain, label=yTrain)\n",
    "xgTest = xgb.DMatrix(xTest)\n",
    "\n",
    "res = xgb.cv(params, xgTrain, num_boost_round=2500, nfold=5, stratified=False,\n",
    "         early_stopping_rounds=50, verbose_eval=500, show_stdv=True, feval=xgboostEvalMAE, maximize=False)"
   ]
  },
  {
   "cell_type": "code",
   "execution_count": 24,
   "metadata": {},
   "outputs": [
    {
     "name": "stdout",
     "output_type": "stream",
     "text": [
      "Ensemble CV: 0.4327426+0.0005877617204275927\n",
      "Best n rounds are : 208\n"
     ]
    }
   ],
   "source": [
    "best_nrounds = res.shape[0] - 1\n",
    "cvMean = res.iloc[-1, 0]\n",
    "cvStd = res.iloc[-1, 1]\n",
    "print('Ensemble CV: {0}+{1}'.format(cvMean, cvStd))\n",
    "print('Best n rounds are :',best_nrounds)"
   ]
  },
  {
   "cell_type": "code",
   "execution_count": 27,
   "metadata": {},
   "outputs": [],
   "source": [
    "RANDOM_STATE = 2016\n",
    "\n",
    "xgTrain = xgb.DMatrix(xTrain, label=yTrain)\n",
    "xgTest = xgb.DMatrix(xTest)\n",
    "\n",
    "model = xgb.train(params, xgTrain,best_nrounds, feval=xgboostEvalMAE)\n",
    "\n",
    "prediction = np.exp(model.predict(xgTest)) - shift\n",
    "\n",
    "sub = pd.read_csv('sample_submission.csv')\n",
    "sub['loss'] = prediction\n",
    "sub.to_csv('submissions2.csv', index=False)\n"
   ]
  }
 ],
 "metadata": {
  "kernelspec": {
   "display_name": "Python 3",
   "language": "python",
   "name": "python3"
  },
  "language_info": {
   "codemirror_mode": {
    "name": "ipython",
    "version": 3
   },
   "file_extension": ".py",
   "mimetype": "text/x-python",
   "name": "python",
   "nbconvert_exporter": "python",
   "pygments_lexer": "ipython3",
   "version": "3.7.3"
  }
 },
 "nbformat": 4,
 "nbformat_minor": 4
}
